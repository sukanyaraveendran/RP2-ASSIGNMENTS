{
  "cells": [
    {
      "cell_type": "markdown",
      "id": "ca5621d4-6342-4176-a9d9-66ef7b1e7005",
      "metadata": {
        "id": "ca5621d4-6342-4176-a9d9-66ef7b1e7005"
      },
      "source": [
        "#### Dictionaries - Exercises"
      ]
    },
    {
      "cell_type": "code",
      "execution_count": null,
      "id": "532cece2-c933-43e5-a08d-009113e17b3b",
      "metadata": {
        "id": "532cece2-c933-43e5-a08d-009113e17b3b",
        "colab": {
          "base_uri": "https://localhost:8080/"
        },
        "outputId": "e90288d6-371b-4879-ddb5-37250b9078cc"
      },
      "outputs": [
        {
          "output_type": "execute_result",
          "data": {
            "text/plain": [
              "{}"
            ]
          },
          "metadata": {},
          "execution_count": 2
        }
      ],
      "source": [
        "# 1. Create an empty dictionary called dogs\n",
        "dogs = dict() #creating empty dictionary\n",
        "dogs"
      ]
    },
    {
      "cell_type": "code",
      "execution_count": null,
      "id": "b5f1e41e-5a37-4334-8c7a-b02e6cfc2e48",
      "metadata": {
        "id": "b5f1e41e-5a37-4334-8c7a-b02e6cfc2e48",
        "colab": {
          "base_uri": "https://localhost:8080/"
        },
        "outputId": "0f0afd11-c6b9-4248-d140-44481be1aea0"
      },
      "outputs": [
        {
          "output_type": "stream",
          "name": "stdout",
          "text": [
            "{'name': 'Bella', 'color': 'White', 'breed': 'Labrador', 'legs': 4, 'age': 2}\n"
          ]
        }
      ],
      "source": [
        "# 2. Add name, color, breed, legs, age to the dog dictionary\n",
        "dogs['name'] = 'Bella'\n",
        "dogs['color'] = 'White'\n",
        "dogs['breed'] = 'Labrador'\n",
        "dogs['legs'] = 4\n",
        "dogs['age'] = 2\n",
        "print(dogs)"
      ]
    },
    {
      "cell_type": "code",
      "execution_count": null,
      "id": "8bdbb97f-ec52-4d94-9142-6900bc9a948f",
      "metadata": {
        "id": "8bdbb97f-ec52-4d94-9142-6900bc9a948f",
        "colab": {
          "base_uri": "https://localhost:8080/"
        },
        "outputId": "ad80b0a0-e1ee-4e50-8bae-9a0db6cff3df"
      },
      "outputs": [
        {
          "output_type": "stream",
          "name": "stdout",
          "text": [
            "{'first_name': 'Sukanya', 'last_name': 'Raveendran', 'gender': 'Female', 'age': 31, 'marital_status': 'Single', 'skills': ['Python', 'java', 'SQL'], 'country': 'India', 'city': 'Thrissur', 'address': 'Machatt House,Pazhuvil(w)'}\n"
          ]
        }
      ],
      "source": [
        "# 3. Create a student dictionary and add first_name, last_name, gender, age,\n",
        "    # marital status, skills, country, city and address as keys for the dictionary\n",
        "student = {'first_name': 'Sukanya',\n",
        "          'last_name': 'Raveendran',\n",
        "           'gender' : 'Female',\n",
        "           'age' : 31 ,\n",
        "           'marital_status' : 'Single',\n",
        "           'skills' : ['Python','java','SQL'],\n",
        "           'country' : 'India',\n",
        "           'city': 'Thrissur',\n",
        "           'address' : 'Machatt House,Pazhuvil(w)'\n",
        "           }\n",
        "print(student)"
      ]
    },
    {
      "cell_type": "code",
      "execution_count": null,
      "id": "b49fcafb-8a26-401f-8cfe-978eca7fd83e",
      "metadata": {
        "id": "b49fcafb-8a26-401f-8cfe-978eca7fd83e",
        "colab": {
          "base_uri": "https://localhost:8080/"
        },
        "outputId": "5c5de9f8-b24f-499f-e303-bcd01d56d7fd"
      },
      "outputs": [
        {
          "output_type": "stream",
          "name": "stdout",
          "text": [
            "Length of student dictionary:  8\n"
          ]
        }
      ],
      "source": [
        "# 4. Get the length of the student dictionary\n",
        "print(\"Length of student dictionary: \",len(student)) #finding length of dictionary student"
      ]
    },
    {
      "cell_type": "code",
      "execution_count": null,
      "id": "72fa5725-2459-42e8-ac03-606aa5d8f7af",
      "metadata": {
        "id": "72fa5725-2459-42e8-ac03-606aa5d8f7af",
        "colab": {
          "base_uri": "https://localhost:8080/"
        },
        "outputId": "91b69346-b20d-4763-a5cb-4230177d06db"
      },
      "outputs": [
        {
          "output_type": "stream",
          "name": "stdout",
          "text": [
            "['Python', 'java', 'SQL']\n"
          ]
        },
        {
          "output_type": "execute_result",
          "data": {
            "text/plain": [
              "list"
            ]
          },
          "metadata": {},
          "execution_count": 21
        }
      ],
      "source": [
        "# 5. Get the value of skills and check the data type, it should be a list\n",
        "print(student['skills'])\n",
        "type(student['skills'])"
      ]
    },
    {
      "cell_type": "code",
      "execution_count": null,
      "id": "e8ea173a-50cc-4e57-b56e-9f0081cde762",
      "metadata": {
        "id": "e8ea173a-50cc-4e57-b56e-9f0081cde762",
        "colab": {
          "base_uri": "https://localhost:8080/"
        },
        "outputId": "6a10c4c7-fc88-4483-f081-d974665c19cf"
      },
      "outputs": [
        {
          "output_type": "stream",
          "name": "stdout",
          "text": [
            "{'first_name': 'Sukanya', 'last_name': 'Raveendran', 'gender': 'Female', 'age': 31, 'marital_status': 'Single', 'skills': ['Python', 'java', 'SQL', ['Data Analysis', 'Communication skills']], 'country': 'India', 'address': 'Thrissur'}\n"
          ]
        }
      ],
      "source": [
        "# 6. Modify the skills values by adding one or two skills\n",
        "student['skills'].append(['Data Analysis','Communication skills']) #adding more values to the key skills\n",
        "print(student)"
      ]
    },
    {
      "cell_type": "code",
      "execution_count": null,
      "id": "66d4247d-8d74-4393-840e-dc5123f24ff6",
      "metadata": {
        "id": "66d4247d-8d74-4393-840e-dc5123f24ff6",
        "colab": {
          "base_uri": "https://localhost:8080/"
        },
        "outputId": "ba5f6109-cd7e-4ce6-ab35-3b1e58151cac"
      },
      "outputs": [
        {
          "output_type": "stream",
          "name": "stdout",
          "text": [
            "['first_name', 'last_name', 'gender', 'age', 'marital_status', 'skills', 'country', 'address']\n"
          ]
        }
      ],
      "source": [
        "# 7. Get the dictionary keys as a list\n",
        "print(list(student.keys())) #retrieving the keys as list"
      ]
    },
    {
      "cell_type": "code",
      "execution_count": null,
      "id": "e173a41e-3495-4f72-89c2-160618e42ffe",
      "metadata": {
        "id": "e173a41e-3495-4f72-89c2-160618e42ffe",
        "colab": {
          "base_uri": "https://localhost:8080/"
        },
        "outputId": "fa830b13-21b3-495a-fd6e-85cac16c99a7"
      },
      "outputs": [
        {
          "output_type": "stream",
          "name": "stdout",
          "text": [
            "['Sukanya', 'Raveendran', 'Female', 31, 'Single', ['Python', 'java', 'SQL', ['Data Analysis', 'Communication skills']], 'India', 'Thrissur']\n"
          ]
        }
      ],
      "source": [
        "# 8. Get the dictionary values as a list\n",
        "print(list(student.values())) #retrieving the values as list"
      ]
    },
    {
      "cell_type": "code",
      "execution_count": null,
      "id": "23aa404e-953a-4b01-8646-ab7428daa746",
      "metadata": {
        "id": "23aa404e-953a-4b01-8646-ab7428daa746",
        "colab": {
          "base_uri": "https://localhost:8080/"
        },
        "outputId": "3a3a19ee-9097-45c6-8345-264422eba7db"
      },
      "outputs": [
        {
          "output_type": "stream",
          "name": "stdout",
          "text": [
            "[('first_name', 'Sukanya'), ('last_name', 'Raveendran'), ('gender', 'Female'), ('age', 31), ('marital_status', 'Single'), ('skills', ['Python', 'java', 'SQL', ['Data Analysis', 'Communication skills']]), ('country', 'India'), ('address', 'Thrissur')]\n"
          ]
        }
      ],
      "source": [
        "# 9. Change the dictionary to a list of tuples using items() method\n",
        "print(list(student.items())) # eaxch items retrieved as tuple and the whole tuple converted to list"
      ]
    },
    {
      "cell_type": "code",
      "execution_count": null,
      "id": "e4c3a0a9-c9d8-4ad8-9e9e-f61b92d06952",
      "metadata": {
        "id": "e4c3a0a9-c9d8-4ad8-9e9e-f61b92d06952",
        "colab": {
          "base_uri": "https://localhost:8080/"
        },
        "outputId": "ceae8631-0d4c-4b9e-a085-6305601bd1c3"
      },
      "outputs": [
        {
          "output_type": "stream",
          "name": "stdout",
          "text": [
            "Deleted Item :  Single\n",
            "Dictionary\n",
            ": {'first_name': 'Sukanya', 'last_name': 'Raveendran', 'gender': 'Female', 'age': 31, 'skills': ['Python', 'java', 'SQL', ['Data Analysis', 'Communication skills']], 'country': 'India', 'address': 'Thrissur'}\n"
          ]
        }
      ],
      "source": [
        "# 10. Delete one of the items in the dictionary\n",
        "deleted = student.pop('marital_status') #deleted the value for the key: marital status\n",
        "print(\"Deleted Item : \",deleted)\n",
        "print(\"Dictionary\\n:\",student)"
      ]
    },
    {
      "cell_type": "code",
      "execution_count": null,
      "id": "e868f738-ca08-47cb-90db-6284f2e05c42",
      "metadata": {
        "id": "e868f738-ca08-47cb-90db-6284f2e05c42",
        "colab": {
          "base_uri": "https://localhost:8080/",
          "height": 176
        },
        "outputId": "5db11887-4644-4526-885c-798a8e7c71a3"
      },
      "outputs": [
        {
          "output_type": "error",
          "ename": "NameError",
          "evalue": "name 'dogs' is not defined",
          "traceback": [
            "\u001b[0;31m---------------------------------------------------------------------------\u001b[0m",
            "\u001b[0;31mNameError\u001b[0m                                 Traceback (most recent call last)",
            "\u001b[0;32m/tmp/ipython-input-3249234375.py\u001b[0m in \u001b[0;36m<cell line: 0>\u001b[0;34m()\u001b[0m\n\u001b[1;32m      1\u001b[0m \u001b[0;31m# 11. Delete one of the dictionaries\u001b[0m\u001b[0;34m\u001b[0m\u001b[0;34m\u001b[0m\u001b[0m\n\u001b[1;32m      2\u001b[0m \u001b[0;32mdel\u001b[0m \u001b[0mdogs\u001b[0m\u001b[0;34m\u001b[0m\u001b[0;34m\u001b[0m\u001b[0m\n\u001b[0;32m----> 3\u001b[0;31m \u001b[0mdogs\u001b[0m\u001b[0;34m\u001b[0m\u001b[0;34m\u001b[0m\u001b[0m\n\u001b[0m",
            "\u001b[0;31mNameError\u001b[0m: name 'dogs' is not defined"
          ]
        }
      ],
      "source": [
        "# 11. Delete one of the dictionaries\n",
        "del dogs #deleted the entire structure of the dictionary dog\n",
        "dogs"
      ]
    }
  ],
  "metadata": {
    "kernelspec": {
      "display_name": "Python 3 (ipykernel)",
      "language": "python",
      "name": "python3"
    },
    "language_info": {
      "codemirror_mode": {
        "name": "ipython",
        "version": 3
      },
      "file_extension": ".py",
      "mimetype": "text/x-python",
      "name": "python",
      "nbconvert_exporter": "python",
      "pygments_lexer": "ipython3",
      "version": "3.12.7"
    },
    "colab": {
      "provenance": []
    }
  },
  "nbformat": 4,
  "nbformat_minor": 5
}