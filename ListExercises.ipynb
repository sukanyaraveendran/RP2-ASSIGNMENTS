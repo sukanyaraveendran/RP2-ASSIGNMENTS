{
  "cells": [
    {
      "cell_type": "code",
      "execution_count": null,
      "id": "a500643f-ceb3-454d-a528-cbd3716c16e3",
      "metadata": {
        "id": "a500643f-ceb3-454d-a528-cbd3716c16e3"
      },
      "outputs": [],
      "source": [
        "# 1. Declare an empty list\n",
        "list1 = [] #empty list created"
      ]
    },
    {
      "cell_type": "code",
      "execution_count": null,
      "id": "ce64b9b4-d594-4698-8c04-6f871ab7af16",
      "metadata": {
        "colab": {
          "base_uri": "https://localhost:8080/"
        },
        "id": "ce64b9b4-d594-4698-8c04-6f871ab7af16",
        "outputId": "17153482-af2f-4767-9b97-96c1bc6d01c8"
      },
      "outputs": [
        {
          "output_type": "stream",
          "name": "stdout",
          "text": [
            "['Anu', 25, 98.5, (5+3j), 'Apple', False]\n"
          ]
        }
      ],
      "source": [
        "# 2. Declare a list with more than 5 items\n",
        "list2 = [\"Anu\",25,98.5,5+3j,\"Apple\",False] #list with more than 5 items\n",
        "print(list2)"
      ]
    },
    {
      "cell_type": "code",
      "execution_count": null,
      "id": "60ee73cc-7799-4040-94a2-54968aab9ce0",
      "metadata": {
        "colab": {
          "base_uri": "https://localhost:8080/"
        },
        "id": "60ee73cc-7799-4040-94a2-54968aab9ce0",
        "outputId": "0ca6255b-4dee-42a1-daac-256b1b773673"
      },
      "outputs": [
        {
          "output_type": "stream",
          "name": "stdout",
          "text": [
            "6\n"
          ]
        }
      ],
      "source": [
        "# 3. Find the length of your list\n",
        "print(len(list2)) #length of the list is printed"
      ]
    },
    {
      "cell_type": "code",
      "execution_count": null,
      "id": "a717c28b-d4fe-4f2c-b99f-1aaea0c2dc4f",
      "metadata": {
        "colab": {
          "base_uri": "https://localhost:8080/"
        },
        "id": "a717c28b-d4fe-4f2c-b99f-1aaea0c2dc4f",
        "outputId": "574b252f-b4aa-48c0-a7fb-36aa1ce35d08"
      },
      "outputs": [
        {
          "output_type": "stream",
          "name": "stdout",
          "text": [
            "Anu\n",
            "98.5\n",
            "False\n"
          ]
        }
      ],
      "source": [
        "# 4.Get the first item, the middle item and the last item of the list\n",
        "print(list2[0]) #retrieved first item\n",
        "print(list2[(len(list2)-1)//2]) #retrieved middle item\n",
        "print(list2[-1]) #retrieved last item\n"
      ]
    },
    {
      "cell_type": "code",
      "execution_count": null,
      "id": "646d4e51-10e2-4781-bedd-2660ae979c81",
      "metadata": {
        "id": "646d4e51-10e2-4781-bedd-2660ae979c81"
      },
      "outputs": [],
      "source": [
        "# 5.Declare a list called mixed_data_types, put your(name, age, height, marital status, address)\n",
        "mixed_data_types = [\"Sukanya\",31,155.5,\"Single\",\"Thrissur\"] #list of mixed datatypes"
      ]
    },
    {
      "cell_type": "code",
      "execution_count": null,
      "id": "644386a3-0af9-4f83-9d33-45d2aaf3139b",
      "metadata": {
        "id": "644386a3-0af9-4f83-9d33-45d2aaf3139b"
      },
      "outputs": [],
      "source": [
        "# 6. Declare a list variable named it_companies and assign initial values\n",
        "# Facebook, Google, Microsoft, Apple, IBM, Oracle and Amazon.\n",
        "it_companies = ['Facebook','Google','Microsoft','Apple','IBM','Oracle','Amazon']"
      ]
    },
    {
      "cell_type": "code",
      "execution_count": null,
      "id": "18ef3cfe-cb3c-4a61-a7d8-86ac05f64665",
      "metadata": {
        "colab": {
          "base_uri": "https://localhost:8080/"
        },
        "id": "18ef3cfe-cb3c-4a61-a7d8-86ac05f64665",
        "outputId": "369dc5a5-44ae-4cb0-ffff-7ed30f87ae16"
      },
      "outputs": [
        {
          "output_type": "stream",
          "name": "stdout",
          "text": [
            "['Facebook', 'Google', 'Microsoft', 'Apple', 'IBM', 'Oracle', 'Amazon']\n"
          ]
        }
      ],
      "source": [
        "#7. Print the list using print()\n",
        "print(it_companies)"
      ]
    },
    {
      "cell_type": "code",
      "execution_count": null,
      "id": "7d19c4a6-8ab2-4fcc-9d05-68372b48c9db",
      "metadata": {
        "colab": {
          "base_uri": "https://localhost:8080/"
        },
        "id": "7d19c4a6-8ab2-4fcc-9d05-68372b48c9db",
        "outputId": "71e10a0b-1382-43df-edd3-a933966d6b84"
      },
      "outputs": [
        {
          "output_type": "stream",
          "name": "stdout",
          "text": [
            "7\n"
          ]
        }
      ],
      "source": [
        "# 8. Print the number of companies in the list\n",
        "print(len(it_companies)) #length of the list named it_companies"
      ]
    },
    {
      "cell_type": "code",
      "execution_count": null,
      "id": "0d146e56-a243-4326-9438-00c0930de807",
      "metadata": {
        "colab": {
          "base_uri": "https://localhost:8080/"
        },
        "id": "0d146e56-a243-4326-9438-00c0930de807",
        "outputId": "3e539f0b-7269-4055-f45b-8aa60120c389"
      },
      "outputs": [
        {
          "output_type": "stream",
          "name": "stdout",
          "text": [
            "Facebook\n",
            "Apple\n",
            "Amazon\n"
          ]
        }
      ],
      "source": [
        "# 9. Print the first, middle and last company\n",
        "print(it_companies[0]) #find first company in the list\n",
        "print(it_companies[(len(it_companies)-1)//2]) #middle company in the list\n",
        "print(it_companies[-1]) #last company in the list\n",
        ""
      ]
    },
    {
      "cell_type": "code",
      "execution_count": null,
      "id": "4e833417-fb8f-473e-8459-3b0256a2ffd9",
      "metadata": {
        "colab": {
          "base_uri": "https://localhost:8080/"
        },
        "id": "4e833417-fb8f-473e-8459-3b0256a2ffd9",
        "outputId": "9692f5da-309a-44f9-d128-d050648fbc05"
      },
      "outputs": [
        {
          "output_type": "stream",
          "name": "stdout",
          "text": [
            "['Facebook', 'Google', 'Accenture', 'Apple', 'IBM', 'Oracle', 'Amazon']\n"
          ]
        }
      ],
      "source": [
        "# 10. Print the list after modifying one of the companies\n",
        "it_companies[2] = \"Accenture\" #modified the company name in second index\n",
        "print(it_companies)\n"
      ]
    },
    {
      "cell_type": "code",
      "execution_count": null,
      "id": "5f489b23-42cc-4157-b89e-e62d1ff742f9",
      "metadata": {
        "colab": {
          "base_uri": "https://localhost:8080/"
        },
        "id": "5f489b23-42cc-4157-b89e-e62d1ff742f9",
        "outputId": "6d02c22a-3a07-4280-aa2f-e6c926b3082e"
      },
      "outputs": [
        {
          "output_type": "stream",
          "name": "stdout",
          "text": [
            "['Facebook', 'Google', 'Accenture', 'Apple', 'IBM', 'Oracle', 'Amazon', 'TCS']\n"
          ]
        }
      ],
      "source": [
        "# 11. Add an IT company to it_companies\n",
        "it_companies.append(\"TCS\") #added one item to the list\n",
        "print(it_companies)"
      ]
    },
    {
      "cell_type": "code",
      "execution_count": null,
      "id": "61a14d8e-3d31-4d54-927d-6bf5db4a7f93",
      "metadata": {
        "colab": {
          "base_uri": "https://localhost:8080/"
        },
        "id": "61a14d8e-3d31-4d54-927d-6bf5db4a7f93",
        "outputId": "193095ad-222d-4e86-b1c4-05a042a8b34d"
      },
      "outputs": [
        {
          "output_type": "stream",
          "name": "stdout",
          "text": [
            "['Facebook', 'Google', 'Accenture', 'Wipro', 'Apple', 'IBM', 'Oracle', 'Amazon', 'TCS']\n"
          ]
        }
      ],
      "source": [
        "# 12. Insert an IT company in the middle of the companies list\n",
        "it_companies.insert((len(it_companies)-1)//2,\"Wipro\") #found the middle index and added one item using insert() method\n",
        "print(it_companies)\n"
      ]
    },
    {
      "cell_type": "code",
      "execution_count": null,
      "id": "31c074f6-9898-497e-8e74-14fcfcbee970",
      "metadata": {
        "colab": {
          "base_uri": "https://localhost:8080/"
        },
        "id": "31c074f6-9898-497e-8e74-14fcfcbee970",
        "outputId": "9c6ed121-bb58-4cad-ec18-d13f9c7e06f5"
      },
      "outputs": [
        {
          "output_type": "stream",
          "name": "stdout",
          "text": [
            "['Facebook', 'Google', 'Microsoft', 'APPLE', 'IBM', 'Oracle', 'Amazon']\n"
          ]
        }
      ],
      "source": [
        "# 13. Change one of the it_companies names to uppercase (IBM excluded!)\n",
        "it_companies[3] = it_companies[3].upper() #changed the company name in the third index to uppercase using upper() method\n",
        "print(it_companies)"
      ]
    },
    {
      "cell_type": "code",
      "execution_count": null,
      "id": "b83a8bf9-1294-46dd-a50a-770927a9a936",
      "metadata": {
        "colab": {
          "base_uri": "https://localhost:8080/"
        },
        "id": "b83a8bf9-1294-46dd-a50a-770927a9a936",
        "outputId": "93914be6-c146-43fd-91b8-47e773ac0b3a"
      },
      "outputs": [
        {
          "output_type": "stream",
          "name": "stdout",
          "text": [
            "['Facebook', 'Google', 'Microsoft', 'APPLE', 'IBM', 'Oracle', 'Amazon', '#; ']\n"
          ]
        }
      ],
      "source": [
        "# 14. Join the it_companies with a string '#;  '\n",
        "it_companies.append(\"#; \") #appended a string to the list\n",
        "print(it_companies)"
      ]
    },
    {
      "cell_type": "code",
      "execution_count": null,
      "id": "4d802201-c446-4046-a6b6-233db777fc23",
      "metadata": {
        "colab": {
          "base_uri": "https://localhost:8080/"
        },
        "id": "4d802201-c446-4046-a6b6-233db777fc23",
        "outputId": "8fbb86bd-6bc0-444a-c5c8-f92e952b2658"
      },
      "outputs": [
        {
          "output_type": "stream",
          "name": "stdout",
          "text": [
            "True\n"
          ]
        }
      ],
      "source": [
        "# 15. Check if a certain company exists in the it_companies list.\n",
        "does_exist = 'Accenture' in it_companies #checking whether Accenture is present in the list\n",
        "print(does_exist)"
      ]
    },
    {
      "cell_type": "code",
      "execution_count": null,
      "id": "314aee47-adca-4c4e-b8c7-8185cc8e1fd7",
      "metadata": {
        "colab": {
          "base_uri": "https://localhost:8080/"
        },
        "id": "314aee47-adca-4c4e-b8c7-8185cc8e1fd7",
        "outputId": "b7da0d6b-b521-441d-d881-142ada180399"
      },
      "outputs": [
        {
          "output_type": "stream",
          "name": "stdout",
          "text": [
            "[' ', '#', ';', 'Accenture', 'Amazon', 'Apple', 'Facebook', 'Google', 'IBM', 'Oracle', 'TCS', 'WIPRO']\n"
          ]
        }
      ],
      "source": [
        "# 16. Sort the list using sort() method\n",
        "it_companies.sort() #Sorted the list in ascending order\n",
        "print(it_companies)"
      ]
    },
    {
      "cell_type": "code",
      "execution_count": null,
      "id": "a95fb5fd-8797-4cd5-ba17-215f0e5d2946",
      "metadata": {
        "colab": {
          "base_uri": "https://localhost:8080/"
        },
        "id": "a95fb5fd-8797-4cd5-ba17-215f0e5d2946",
        "outputId": "0a49fb1a-b1db-47bf-da3e-a1e3bba0f077"
      },
      "outputs": [
        {
          "output_type": "stream",
          "name": "stdout",
          "text": [
            "['WIPRO', 'TCS', 'Oracle', 'IBM', 'Google', 'Facebook', 'Apple', 'Amazon', 'Accenture', ';', '#', ' ']\n"
          ]
        }
      ],
      "source": [
        "# 17. Reverse the list in descending order using reverse() method\n",
        "it_companies.sort(reverse=True) #Sorted the list in descending order\n",
        "print(it_companies)"
      ]
    },
    {
      "cell_type": "code",
      "execution_count": null,
      "id": "0d3fd2d7-37e4-41e1-92cd-36fb3456f5ee",
      "metadata": {
        "colab": {
          "base_uri": "https://localhost:8080/"
        },
        "id": "0d3fd2d7-37e4-41e1-92cd-36fb3456f5ee",
        "outputId": "46a4a0e3-ade3-47ce-e5db-684cb5c56a23"
      },
      "outputs": [
        {
          "output_type": "stream",
          "name": "stdout",
          "text": [
            "['WIPRO', 'TCS', 'Oracle']\n"
          ]
        }
      ],
      "source": [
        "# 18. Slice out the first 3 companies from the list\n",
        "print(it_companies[:3]) #retrievd first three companies (0 to 3, 3 not included)"
      ]
    },
    {
      "cell_type": "code",
      "execution_count": null,
      "id": "ecba15b6-2f59-4632-8b4a-67545f5761dd",
      "metadata": {
        "colab": {
          "base_uri": "https://localhost:8080/"
        },
        "id": "ecba15b6-2f59-4632-8b4a-67545f5761dd",
        "outputId": "6e55d1ba-09ae-430a-8196-43785825612c"
      },
      "outputs": [
        {
          "output_type": "stream",
          "name": "stdout",
          "text": [
            "[';', '#', ' ']\n"
          ]
        }
      ],
      "source": [
        "# 19. Slice out the last 3 companies from the list\n",
        "sliced_list =it_companies[-3:len(it_companies)] #retrieved last three companies\n",
        "print(sliced_list)"
      ]
    },
    {
      "cell_type": "code",
      "execution_count": null,
      "id": "189ba7e4-c6f1-4f25-b978-39d66e0ce7f8",
      "metadata": {
        "colab": {
          "base_uri": "https://localhost:8080/"
        },
        "id": "189ba7e4-c6f1-4f25-b978-39d66e0ce7f8",
        "outputId": "b3429d39-3016-4ca2-caa0-1787655a734c"
      },
      "outputs": [
        {
          "output_type": "stream",
          "name": "stdout",
          "text": [
            "Facebook\n"
          ]
        }
      ],
      "source": [
        "# 20. Slice out the middle IT company or companies from the list\n",
        "print(it_companies[(len(it_companies)-1)//2]) #retrieved the middle company"
      ]
    },
    {
      "cell_type": "code",
      "execution_count": null,
      "id": "f08fe2ae-89f7-43b5-94f2-d4df57ec8ddd",
      "metadata": {
        "colab": {
          "base_uri": "https://localhost:8080/"
        },
        "id": "f08fe2ae-89f7-43b5-94f2-d4df57ec8ddd",
        "outputId": "0dea939d-6edc-420c-905f-6dde3919a26d"
      },
      "outputs": [
        {
          "output_type": "stream",
          "name": "stdout",
          "text": [
            "['TCS', 'Oracle', 'IBM', 'Google', 'Facebook', 'Apple', 'Amazon', 'Accenture', ';', '#', ' ']\n"
          ]
        }
      ],
      "source": [
        "# 21. Remove the first IT company from the list\n",
        "del it_companies[0] #deleted first company\n",
        "print(it_companies)"
      ]
    },
    {
      "cell_type": "code",
      "execution_count": null,
      "id": "a06e1918-dfac-4be1-9aea-faab50101878",
      "metadata": {
        "colab": {
          "base_uri": "https://localhost:8080/"
        },
        "id": "a06e1918-dfac-4be1-9aea-faab50101878",
        "outputId": "f156751b-12ed-4027-cf0b-a01a14b0b727"
      },
      "outputs": [
        {
          "output_type": "stream",
          "name": "stdout",
          "text": [
            "['TCS', 'Oracle', 'IBM', 'Google', 'Facebook', 'Amazon', 'Accenture', ';', '#', ' ']\n"
          ]
        }
      ],
      "source": [
        "# 22. Remove the middle IT company or companies from the list\n",
        "del it_companies[(len(it_companies)-1)//2] #deleted middle company\n",
        "print(it_companies)"
      ]
    },
    {
      "cell_type": "code",
      "execution_count": null,
      "id": "ad8da79d-0d3e-4028-89d7-0e44f7921bbe",
      "metadata": {
        "colab": {
          "base_uri": "https://localhost:8080/"
        },
        "id": "ad8da79d-0d3e-4028-89d7-0e44f7921bbe",
        "outputId": "cc4c4afd-57e8-4304-c59c-cb5b92f1df6e"
      },
      "outputs": [
        {
          "output_type": "stream",
          "name": "stdout",
          "text": [
            "['TCS', 'Oracle', 'IBM', 'Google', 'Facebook', 'Amazon', 'Accenture', ';', '#']\n"
          ]
        }
      ],
      "source": [
        "# 23. Remove the last IT company from the list\n",
        "del it_companies[-1] #deleted last company\n",
        "print(it_companies)"
      ]
    },
    {
      "cell_type": "code",
      "execution_count": null,
      "id": "75a4e29f-3d99-46d8-874a-7dfdb322f0b1",
      "metadata": {
        "colab": {
          "base_uri": "https://localhost:8080/"
        },
        "id": "75a4e29f-3d99-46d8-874a-7dfdb322f0b1",
        "outputId": "fb450c3c-0a7d-4c1b-c2d2-9deb066297b3"
      },
      "outputs": [
        {
          "output_type": "stream",
          "name": "stdout",
          "text": [
            "[]\n"
          ]
        }
      ],
      "source": [
        "# 24. Remove all IT companies from the list\n",
        "it_companies.clear() #removed all the items using clear() method\n",
        "print(it_companies)"
      ]
    },
    {
      "cell_type": "code",
      "execution_count": null,
      "id": "ead6d534-e733-465b-942f-bad54efa4b0e",
      "metadata": {
        "colab": {
          "base_uri": "https://localhost:8080/",
          "height": 176
        },
        "id": "ead6d534-e733-465b-942f-bad54efa4b0e",
        "outputId": "6585927a-94fd-4d79-e09d-53f0da925ee2"
      },
      "outputs": [
        {
          "output_type": "error",
          "ename": "NameError",
          "evalue": "name 'it_companies' is not defined",
          "traceback": [
            "\u001b[0;31m---------------------------------------------------------------------------\u001b[0m",
            "\u001b[0;31mNameError\u001b[0m                                 Traceback (most recent call last)",
            "\u001b[0;32m/tmp/ipython-input-4134185718.py\u001b[0m in \u001b[0;36m<cell line: 0>\u001b[0;34m()\u001b[0m\n\u001b[1;32m      1\u001b[0m \u001b[0;31m# 25. Destroy the IT companies list\u001b[0m\u001b[0;34m\u001b[0m\u001b[0;34m\u001b[0m\u001b[0m\n\u001b[1;32m      2\u001b[0m \u001b[0;32mdel\u001b[0m \u001b[0mit_companies\u001b[0m\u001b[0;34m\u001b[0m\u001b[0;34m\u001b[0m\u001b[0m\n\u001b[0;32m----> 3\u001b[0;31m \u001b[0mprint\u001b[0m\u001b[0;34m(\u001b[0m\u001b[0mit_companies\u001b[0m\u001b[0;34m)\u001b[0m\u001b[0;34m\u001b[0m\u001b[0;34m\u001b[0m\u001b[0m\n\u001b[0m",
            "\u001b[0;31mNameError\u001b[0m: name 'it_companies' is not defined"
          ]
        }
      ],
      "source": [
        "# 25. Destroy the IT companies list\n",
        "del it_companies #deleted the list completely\n",
        "print(it_companies)"
      ]
    },
    {
      "cell_type": "code",
      "execution_count": null,
      "id": "16fbc7a5-14b8-4388-9df0-4922ff5231ca",
      "metadata": {
        "colab": {
          "base_uri": "https://localhost:8080/"
        },
        "id": "16fbc7a5-14b8-4388-9df0-4922ff5231ca",
        "outputId": "9d444caa-eeae-4567-d9fc-61dd7efaec78"
      },
      "outputs": [
        {
          "output_type": "stream",
          "name": "stdout",
          "text": [
            "['HTML', 'CSS', 'JS', 'React', 'Redux', 'Node', 'Express', 'MongoDB']\n"
          ]
        }
      ],
      "source": [
        "# 26. Join the following lists:\n",
        "# front_end = ['HTML', 'CSS', 'JS', 'React', 'Redux']\n",
        "# back_end = ['Node','Express', 'MongoDB']\n",
        "front_end = ['HTML', 'CSS', 'JS', 'React', 'Redux']\n",
        "back_end = ['Node','Express', 'MongoDB']\n",
        "front_end.extend(back_end) #joined both list using extend method\n",
        "print(front_end)"
      ]
    },
    {
      "cell_type": "code",
      "execution_count": null,
      "id": "02cf8864-25b0-42bd-bfbf-53c1e38dcf41",
      "metadata": {
        "id": "02cf8864-25b0-42bd-bfbf-53c1e38dcf41"
      },
      "outputs": [],
      "source": [
        "# 27. After joining the lists in question 26. Copy the joined list and assign it to a\n",
        "# variable full_stack, then insert Python and SQL after Redux.\n",
        "full_stack = front_end.copy() #copied the entire list to full_stack variable\n"
      ]
    },
    {
      "cell_type": "code",
      "source": [
        "full_stack.insert(5,[\"Python\",\"SQL\"]) #inserted new list after 'Redux'\n",
        "print(full_stack)"
      ],
      "metadata": {
        "colab": {
          "base_uri": "https://localhost:8080/"
        },
        "id": "b0z6aEzhsd8H",
        "outputId": "fffa474f-5b3c-438a-a12e-48094d9bfe43"
      },
      "id": "b0z6aEzhsd8H",
      "execution_count": null,
      "outputs": [
        {
          "output_type": "stream",
          "name": "stdout",
          "text": [
            "['HTML', 'CSS', 'JS', 'React', 'Redux', ['Python', 'SQL'], 'Node', 'Express', 'MongoDB']\n"
          ]
        }
      ]
    },
    {
      "cell_type": "markdown",
      "id": "2aebfb74-bcd3-4298-af1b-22f50e3e4e0b",
      "metadata": {
        "id": "2aebfb74-bcd3-4298-af1b-22f50e3e4e0b"
      },
      "source": [
        "#Second Set Assignment"
      ]
    },
    {
      "cell_type": "markdown",
      "id": "721c5cbb-e13b-46ee-a515-8d117b29f18e",
      "metadata": {
        "id": "721c5cbb-e13b-46ee-a515-8d117b29f18e"
      },
      "source": [
        "The following is a list of 10 students ages:\n",
        "ages = [19, 22, 19, 24, 20, 25, 26, 24, 25, 24]"
      ]
    },
    {
      "cell_type": "code",
      "execution_count": 1,
      "id": "dd4ae415-b498-4f6d-8f23-3ca39f589cbf",
      "metadata": {
        "colab": {
          "base_uri": "https://localhost:8080/"
        },
        "id": "dd4ae415-b498-4f6d-8f23-3ca39f589cbf",
        "outputId": "27029a5c-8372-47a0-8366-4625cbfa23f0"
      },
      "outputs": [
        {
          "output_type": "stream",
          "name": "stdout",
          "text": [
            "[19, 19, 20, 22, 24, 24, 24, 25, 25, 26]\n",
            "26\n",
            "19\n"
          ]
        }
      ],
      "source": [
        "# Sort the list and find the min and max age\n",
        "ages = [19, 22, 19, 24, 20, 25, 26, 24, 25, 24]\n",
        "ages.sort() #soretd the ages in ascending order\n",
        "print(ages)\n",
        "print(max(ages)) #calculated maximum age\n",
        "print(min(ages)) #calculated minimum age"
      ]
    },
    {
      "cell_type": "code",
      "execution_count": null,
      "id": "200adfd6-3cd7-4a06-908a-7fb883b18409",
      "metadata": {
        "colab": {
          "base_uri": "https://localhost:8080/"
        },
        "id": "200adfd6-3cd7-4a06-908a-7fb883b18409",
        "outputId": "d38cae4a-0ac0-4306-8ac5-55f16d97ce70"
      },
      "outputs": [
        {
          "output_type": "stream",
          "name": "stdout",
          "text": [
            "[19, 19, 20, 22, 24, 24, 24, 25, 25, 26, 19, 26]\n"
          ]
        }
      ],
      "source": [
        "# Add the min age and the max age again to the list\n",
        "min_age = min(ages)\n",
        "max_age = max(ages)\n",
        "ages.extend([min_age,max_age]) #added min and max of ages to the list\n",
        "print(ages)"
      ]
    },
    {
      "cell_type": "code",
      "execution_count": 3,
      "id": "59ec9452-ee61-4ec4-941c-9bd9f61c45ac",
      "metadata": {
        "colab": {
          "base_uri": "https://localhost:8080/"
        },
        "id": "59ec9452-ee61-4ec4-941c-9bd9f61c45ac",
        "outputId": "7aa0c04a-ebfe-493f-f22e-e0631ff7a471"
      },
      "outputs": [
        {
          "output_type": "stream",
          "name": "stdout",
          "text": [
            "[19, 19, 20, 22, 24, 24, 24, 25, 25, 26]\n",
            "Median of ages:  24.0\n"
          ]
        }
      ],
      "source": [
        "# Find the median age (one middle item or two middle items divided by two)\n",
        "ages.sort() #soretd the list in ascending order\n",
        "print(ages)\n",
        "length_ages = len(ages) #length of the list is calculated\n",
        "if length_ages % 2 != 0 : #check whether length is odd or even , Here odd so only one median value\n",
        "  median_age = ages[length_ages//2] # found the middle value, which is also the median\n",
        "else : #length is even so 2 middle items and median is the average of both mid values\n",
        "  mid_value1 = ages[(length_ages//2)-1] #calculating first mid value\n",
        "  mid_value2 =ages[length_ages//2] #calculating second mid value\n",
        "  median_age = (mid_value1 + mid_value2) / 2 #finding median by taking average of both mid values\n",
        "print(\"Median of ages: \",median_age)"
      ]
    },
    {
      "cell_type": "code",
      "execution_count": 4,
      "id": "f55f973e-f02c-4806-b4f7-4ebb30256523",
      "metadata": {
        "colab": {
          "base_uri": "https://localhost:8080/"
        },
        "id": "f55f973e-f02c-4806-b4f7-4ebb30256523",
        "outputId": "867d8c22-70e4-4a3a-c801-dc01953b7877"
      },
      "outputs": [
        {
          "output_type": "stream",
          "name": "stdout",
          "text": [
            "Sum of ages is :  228\n",
            "Average of ages is : 22.8\n"
          ]
        }
      ],
      "source": [
        "# Find the average age (sum of all items divided by their number )\n",
        "sum_age = 0 #initialize sum as zero\n",
        "for i in ages :\n",
        "  sum_age = sum_age + i #finding total sum using for loop\n",
        "average_age = sum_age/length_ages #average = sum / total no\n",
        "print(\"Sum of ages is : \",sum_age)\n",
        "print(\"Average of ages is :\",average_age)\n"
      ]
    },
    {
      "cell_type": "code",
      "execution_count": null,
      "id": "b1cc3a2d-eecc-430e-b210-9605ec042cd0",
      "metadata": {
        "colab": {
          "base_uri": "https://localhost:8080/"
        },
        "id": "b1cc3a2d-eecc-430e-b210-9605ec042cd0",
        "outputId": "a71a4b65-f7ca-412c-8b1d-ea79f9222eb5"
      },
      "outputs": [
        {
          "output_type": "stream",
          "name": "stdout",
          "text": [
            "Range of ages is:  7\n"
          ]
        }
      ],
      "source": [
        "# Find the range of the ages (max minus min)\n",
        "range_age = max(ages) - min(ages) #range of ages is calculated\n",
        "print(\"Range of ages is: \",range_age)"
      ]
    },
    {
      "cell_type": "code",
      "execution_count": null,
      "id": "ebd8f1f3-7051-453b-9de0-202c7054a7fb",
      "metadata": {
        "id": "ebd8f1f3-7051-453b-9de0-202c7054a7fb",
        "colab": {
          "base_uri": "https://localhost:8080/"
        },
        "outputId": "57793198-62c3-4804-8b83-3adb4f0aee6c"
      },
      "outputs": [
        {
          "output_type": "stream",
          "name": "stdout",
          "text": [
            "abs(min-average) is :  3.75\n",
            "abs(max-average) is:  3.25\n",
            "Absolute of min-average is greater than absolute of max-average\n"
          ]
        }
      ],
      "source": [
        "# Compare the value of (min - average) and (max - average), use abs() method\n",
        "min_average = abs(min_age - average_age) #absolute difference of min-max age\n",
        "max_average = abs(max_age - average_age) #absolute difference of max-min age\n",
        "print(\"abs(min-average) is : \",min_average)\n",
        "print(\"abs(max-average) is: \",max_average)\n",
        "if  min_average > max_average : #checking which one is greater\n",
        "  print(\"Absolute of min-average is greater than absolute of max-average\")\n",
        "else :\n",
        "  print(\"Absolute of max-average is greater than absolute of min-average\")\n"
      ]
    },
    {
      "cell_type": "code",
      "execution_count": null,
      "id": "248391f0-f822-40a3-b15c-79ce28b3abdf",
      "metadata": {
        "id": "248391f0-f822-40a3-b15c-79ce28b3abdf",
        "colab": {
          "base_uri": "https://localhost:8080/"
        },
        "outputId": "434cd119-fe8c-49b6-b8ff-6b9c2c8c8e8e"
      },
      "outputs": [
        {
          "output_type": "stream",
          "name": "stdout",
          "text": [
            "Middle country is: Finland\n"
          ]
        }
      ],
      "source": [
        "# Find the middle country(ies) in the countries list\n",
        "countries = ['China', 'Russia', 'USA', 'Finland', 'Sweden', 'Norway', 'Denmark']\n",
        "length_countries = len(countries) #finding total no of countries\n",
        "\n",
        "if length_countries % 2 != 0 : #check whether total no is even or odd. Here odd so only one mid value\n",
        "  mid_country = countries[length_countries//2] #finding mid value\n",
        "  print(\"Middle country is:\",mid_country)\n",
        "else : # total no is even , so 2 mid values\n",
        "  mid_country1 = countries[(length_countries//2)-1] #finding first mid value\n",
        "  mid_country2 = countries[length_countries//2] #finding second mid value\n",
        "  print(\"Middle countries are:\",mid_country1,\" \",mid_country2)\n",
        "\n",
        "\n"
      ]
    },
    {
      "cell_type": "code",
      "execution_count": null,
      "id": "450b75c9-6cd9-4cc0-9fb8-fde52c6de453",
      "metadata": {
        "id": "450b75c9-6cd9-4cc0-9fb8-fde52c6de453",
        "colab": {
          "base_uri": "https://localhost:8080/"
        },
        "outputId": "65498029-43ab-4e8e-8fc1-91a34bf7bc0f"
      },
      "outputs": [
        {
          "output_type": "stream",
          "name": "stdout",
          "text": [
            "Country list\n",
            " ['China', 'Russia', 'USA', 'Finland'] \n",
            " ['Sweden', 'Norway', 'Denmark', 'India']\n"
          ]
        }
      ],
      "source": [
        "# Divide the countries list into two equal lists if it is even if not one more country for the first half.\n",
        "\n",
        "if length_countries % 2 == 0 : # check if length is even, here even\n",
        "  country_list1 = countries[:length_countries//2] # sliced the list to first half (with equal no of items)\n",
        "  country_list2 = countries[length_countries//2:length_countries] #sliced list to second half\n",
        "  print(\"Country list\\n\",country_list1,\"\\n\",country_list2)\n",
        "else : #here total length is odd\n",
        "  country_list1 = countries[:length_countries//2+1] #first half with one more country than second half\n",
        "  country_list2 = countries[length_countries//2+1:length_countries] #second half\n",
        "  print(\"Country list\\n\",country_list1,\"\\n\",country_list2)"
      ]
    },
    {
      "cell_type": "code",
      "execution_count": null,
      "id": "f271cd7c-dd09-4eb8-9226-da68d5a289b2",
      "metadata": {
        "id": "f271cd7c-dd09-4eb8-9226-da68d5a289b2"
      },
      "outputs": [],
      "source": [
        "# ['China', 'Russia', 'USA', 'Finland', 'Sweden', 'Norway', 'Denmark']. Unpack the\n",
        "# first three countries and the rest as scandic countries."
      ]
    },
    {
      "cell_type": "code",
      "source": [
        "country_set = countries[:3] #retrieved first three countries\n",
        "scandic_countries = countries[3:length_countries] #balance countries as scandic country\n",
        "print(\"First Three Countries:\\n\",country_set,\"\\nScandic countries\\n\",scandic_countries)"
      ],
      "metadata": {
        "colab": {
          "base_uri": "https://localhost:8080/"
        },
        "id": "xPvP-_5qXBni",
        "outputId": "4df2a711-e6f0-4347-c24e-1afd883cbe39"
      },
      "id": "xPvP-_5qXBni",
      "execution_count": null,
      "outputs": [
        {
          "output_type": "stream",
          "name": "stdout",
          "text": [
            "First Three Countries:\n",
            " ['China', 'Russia', 'USA'] \n",
            "Scandic countries\n",
            " ['Finland', 'Sweden', 'Norway', 'Denmark']\n"
          ]
        }
      ]
    }
  ],
  "metadata": {
    "kernelspec": {
      "display_name": "Python 3 (ipykernel)",
      "language": "python",
      "name": "python3"
    },
    "language_info": {
      "codemirror_mode": {
        "name": "ipython",
        "version": 3
      },
      "file_extension": ".py",
      "mimetype": "text/x-python",
      "name": "python",
      "nbconvert_exporter": "python",
      "pygments_lexer": "ipython3",
      "version": "3.12.7"
    },
    "colab": {
      "provenance": []
    }
  },
  "nbformat": 4,
  "nbformat_minor": 5
}