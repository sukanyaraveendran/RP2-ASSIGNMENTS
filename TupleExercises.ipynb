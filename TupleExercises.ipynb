{
  "cells": [
    {
      "cell_type": "markdown",
      "id": "403ae88f-1a02-4a8a-a148-78c273eae750",
      "metadata": {
        "id": "403ae88f-1a02-4a8a-a148-78c273eae750"
      },
      "source": [
        "### Exercises: Tuples"
      ]
    },
    {
      "cell_type": "code",
      "execution_count": null,
      "id": "1026f155-cd7c-433e-8301-845f7159d638",
      "metadata": {
        "colab": {
          "base_uri": "https://localhost:8080/"
        },
        "id": "1026f155-cd7c-433e-8301-845f7159d638",
        "outputId": "3d77541d-0418-4c1f-f720-26c30cce1690"
      },
      "outputs": [
        {
          "output_type": "execute_result",
          "data": {
            "text/plain": [
              "()"
            ]
          },
          "metadata": {},
          "execution_count": 1
        }
      ],
      "source": [
        "# 1. Create an empty tuple\n",
        "tuple1 = tuple() #empty tuple created using constructor\n",
        "tuple1"
      ]
    },
    {
      "cell_type": "code",
      "execution_count": null,
      "id": "b47ce189-aba9-43a6-a16c-1d5120105d70",
      "metadata": {
        "colab": {
          "base_uri": "https://localhost:8080/"
        },
        "id": "b47ce189-aba9-43a6-a16c-1d5120105d70",
        "outputId": "815502ca-dec9-4846-a4ab-ba8f43e925f7"
      },
      "outputs": [
        {
          "output_type": "stream",
          "name": "stdout",
          "text": [
            "Brothers: ('Sreeraj', 'Ragesh', 'Rahul')\n",
            "Sisters: ('Nayana', 'Ayana', 'Aiswaria')\n"
          ]
        }
      ],
      "source": [
        "# 2. Create a tuple containing names of your sisters and your brothers (imaginary siblings are fine)\n",
        "brothers = ('Sreeraj','Ragesh','Rahul') #tuple with brothers name\n",
        "sisters = ('Nayana','Ayana','Aiswaria') #tuple with sisters name\n",
        "print(\"Brothers:\",brothers)\n",
        "print(\"Sisters:\",sisters)\n"
      ]
    },
    {
      "cell_type": "code",
      "execution_count": null,
      "id": "681fb7d0-cda0-47c8-949f-d62a92a7c496",
      "metadata": {
        "colab": {
          "base_uri": "https://localhost:8080/"
        },
        "id": "681fb7d0-cda0-47c8-949f-d62a92a7c496",
        "outputId": "1f7f6c8f-2f85-4743-eaf4-ca090612cd6d"
      },
      "outputs": [
        {
          "output_type": "stream",
          "name": "stdout",
          "text": [
            "Siblings: ('Sreeraj', 'Ragesh', 'Rahul', 'Nayana', 'Ayana', 'Aiswaria')\n"
          ]
        }
      ],
      "source": [
        "# 3. Join brothers and sisters tuples and assign it to siblings\n",
        "siblings = brothers + sisters #joining both tuples into sibling tuple\n",
        "print(\"Siblings:\",siblings)"
      ]
    },
    {
      "cell_type": "code",
      "execution_count": null,
      "id": "ecdd3608-13c6-4e97-bb21-e326ec1c0878",
      "metadata": {
        "colab": {
          "base_uri": "https://localhost:8080/"
        },
        "id": "ecdd3608-13c6-4e97-bb21-e326ec1c0878",
        "outputId": "b4eb9107-d430-4137-f085-70dcfbae8e8c"
      },
      "outputs": [
        {
          "output_type": "stream",
          "name": "stdout",
          "text": [
            "No.of siblings are:  6\n"
          ]
        }
      ],
      "source": [
        "# 4. How many siblings do you have?\n",
        "count_siblings = len(siblings) #length of tuple is calculated to find the no.of siblings\n",
        "print(\"No.of siblings are: \",count_siblings)"
      ]
    },
    {
      "cell_type": "code",
      "execution_count": null,
      "id": "34683f88-9735-45af-845f-f52abc29533a",
      "metadata": {
        "colab": {
          "base_uri": "https://localhost:8080/"
        },
        "id": "34683f88-9735-45af-845f-f52abc29533a",
        "outputId": "998aea44-4f5d-4c66-d302-9adb53b9f2d9"
      },
      "outputs": [
        {
          "output_type": "stream",
          "name": "stdout",
          "text": [
            "Family members:  ('Sreeraj', 'Ragesh', 'Rahul', 'Nayana', 'Ayana', 'Aiswaria', 'Raveendran', 'Bindhu')\n"
          ]
        }
      ],
      "source": [
        "# 5. Modify the siblings tuple and add the name of your father and mother and assign it to family_members\n",
        "family_members = siblings + ('Raveendran','Bindhu') #added parents with the siblings tuple and stored in family_member tuple\n",
        "print(\"Family members: \",family_members)"
      ]
    },
    {
      "cell_type": "code",
      "execution_count": null,
      "id": "8e5d51d0-fdc2-4ab9-a83d-6e9384325a67",
      "metadata": {
        "colab": {
          "base_uri": "https://localhost:8080/"
        },
        "id": "8e5d51d0-fdc2-4ab9-a83d-6e9384325a67",
        "outputId": "0cee5104-abba-4cab-a6da-21ff73f65526"
      },
      "outputs": [
        {
          "output_type": "stream",
          "name": "stdout",
          "text": [
            "Siblings:  ('Sreeraj', 'Ragesh', 'Rahul', 'Nayana', 'Ayana', 'Aiswaria')\n",
            "Parents:  ('Raveendran', 'Bindhu')\n"
          ]
        }
      ],
      "source": [
        "# 6. Unpack siblings and parents from family_members\n",
        "\n",
        "s1,s2,s3,s4,s5,s6,p1,p2 = family_members #unpacking the tuple family members\n",
        "siblings1 = (s1,s2,s3,s4,s5,s6)\n",
        "parents1 = (p1,p2)\n",
        "print(\"Siblings: \",siblings1)\n",
        "print(\"Parents: \",parents1)"
      ]
    },
    {
      "cell_type": "code",
      "execution_count": null,
      "id": "4cb60264-6b36-4104-b884-a98550645f5a",
      "metadata": {
        "colab": {
          "base_uri": "https://localhost:8080/"
        },
        "id": "4cb60264-6b36-4104-b884-a98550645f5a",
        "outputId": "cb211ee2-c126-43d8-e7fd-b0d0aca0bf0e"
      },
      "outputs": [
        {
          "output_type": "stream",
          "name": "stdout",
          "text": [
            "Food stuffs:  ('Grapes', 'Apple', 'Lemon', 'Orange', 'Carrot', 'Beetroot', 'Tomato', 'Egg', 'Meat', 'Milk')\n"
          ]
        }
      ],
      "source": [
        "# 7. Create fruits, vegetables and animal products tuples. Join the three tuples and\n",
        "# assign it to a variable called food_stuff_tp.\n",
        "fruits = ('Grapes','Apple','Lemon','Orange')\n",
        "vegetables = ('Carrot','Beetroot','Tomato')\n",
        "animal_products = ('Egg','Meat','Milk')\n",
        "food_stuff_tp = fruits + vegetables + animal_products #joining all the tuples\n",
        "print(\"Food stuffs: \",food_stuff_tp)"
      ]
    },
    {
      "cell_type": "code",
      "execution_count": null,
      "id": "a900b2a8-d7e5-4256-a975-09a3ba091dbe",
      "metadata": {
        "colab": {
          "base_uri": "https://localhost:8080/"
        },
        "id": "a900b2a8-d7e5-4256-a975-09a3ba091dbe",
        "outputId": "d5293882-cbad-45c0-c3d3-c84b9b6f323c"
      },
      "outputs": [
        {
          "output_type": "stream",
          "name": "stdout",
          "text": [
            "Food stuffs list:  ['Grapes', 'Apple', 'Lemon', 'Carrot', 'Beetroot', 'Tomato', 'Egg', 'Meat', 'Milk']\n"
          ]
        }
      ],
      "source": [
        "# 8. Change the about food_stuff_tp tuple to a food_stuff_lt list\n",
        "food_stuff_list = list(food_stuff_tp) #converted the tuple into list\n",
        "print(\"Food stuffs list: \",food_stuff_list)"
      ]
    },
    {
      "cell_type": "code",
      "execution_count": null,
      "id": "dafc6ef2-9c02-45d3-ad81-5d5fd6842d97",
      "metadata": {
        "colab": {
          "base_uri": "https://localhost:8080/"
        },
        "id": "dafc6ef2-9c02-45d3-ad81-5d5fd6842d97",
        "outputId": "6e36ba1e-14ef-4ad6-8f82-144172768d54"
      },
      "outputs": [
        {
          "output_type": "stream",
          "name": "stdout",
          "text": [
            "Middle food items are:  Carrot   Beetroot\n"
          ]
        }
      ],
      "source": [
        "# 9. Slice out the middle item or items from the food_stuff_tp tuple or food_stuff_lt list.\n",
        "\n",
        "length_foodstuff = len(food_stuff_tp) #calculated the length of tuple\n",
        "if length_foodstuff % 2 != 0 : #check whether no of items are even or not\n",
        "  middle_food = food_stuff_tp[length_foodstuff//2] #no of items are odd, so onli one middle item\n",
        "  print(\"Middle food item: \",middle_food)\n",
        "else : #no of items are even , so 2 middle items\n",
        "  middle_food = food_stuff_tp[length_foodstuff//2-1] #finding first middle item\n",
        "  middle_food1 = food_stuff_tp[length_foodstuff//2] #findind second middle item\n",
        "  print(\"Middle food items are: \",middle_food,\" \",middle_food1)"
      ]
    },
    {
      "cell_type": "code",
      "execution_count": null,
      "id": "fa0cf3bc-9086-43a5-9536-27aa8843a3d0",
      "metadata": {
        "colab": {
          "base_uri": "https://localhost:8080/"
        },
        "id": "fa0cf3bc-9086-43a5-9536-27aa8843a3d0",
        "outputId": "b25cd3f3-fe0e-4250-d0fa-2fe804287dce"
      },
      "outputs": [
        {
          "output_type": "stream",
          "name": "stdout",
          "text": [
            "First three items:  ('Grapes', 'Apple', 'Lemon')\n",
            "Last three items:  ('Egg', 'Meat', 'Milk')\n"
          ]
        }
      ],
      "source": [
        "# 10.  Slice out the first three items and the last three items from food_staff_lt list\n",
        "print(\"First three items: \",food_stuff_tp[0:3]) # sliced first three items from 0 to 3 ( 3 not included)\n",
        "print(\"Last three items: \",food_stuff_tp[-3:length_foodstuff]) #sliced last three items"
      ]
    },
    {
      "cell_type": "code",
      "execution_count": null,
      "id": "32d62f86-00ff-42ad-b1a4-83c9637220bd",
      "metadata": {
        "colab": {
          "base_uri": "https://localhost:8080/",
          "height": 176
        },
        "id": "32d62f86-00ff-42ad-b1a4-83c9637220bd",
        "outputId": "09c91c4d-f207-47ff-c1d1-3d84826f9603"
      },
      "outputs": [
        {
          "output_type": "error",
          "ename": "NameError",
          "evalue": "name 'food_stuff_tp' is not defined",
          "traceback": [
            "\u001b[0;31m---------------------------------------------------------------------------\u001b[0m",
            "\u001b[0;31mNameError\u001b[0m                                 Traceback (most recent call last)",
            "\u001b[0;32m/tmp/ipython-input-395603904.py\u001b[0m in \u001b[0;36m<cell line: 0>\u001b[0;34m()\u001b[0m\n\u001b[1;32m      1\u001b[0m \u001b[0;31m# 11. Delete the food_staff_tp tuple completely\u001b[0m\u001b[0;34m\u001b[0m\u001b[0;34m\u001b[0m\u001b[0m\n\u001b[1;32m      2\u001b[0m \u001b[0;32mdel\u001b[0m \u001b[0mfood_stuff_tp\u001b[0m\u001b[0;34m\u001b[0m\u001b[0;34m\u001b[0m\u001b[0m\n\u001b[0;32m----> 3\u001b[0;31m \u001b[0mprint\u001b[0m\u001b[0;34m(\u001b[0m\u001b[0mfood_stuff_tp\u001b[0m\u001b[0;34m)\u001b[0m\u001b[0;34m\u001b[0m\u001b[0;34m\u001b[0m\u001b[0m\n\u001b[0m",
            "\u001b[0;31mNameError\u001b[0m: name 'food_stuff_tp' is not defined"
          ]
        }
      ],
      "source": [
        "# 11. Delete the food_staff_tp tuple completely\n",
        "del food_stuff_tp #deleted the tuple completely\n",
        "print(food_stuff_tp)"
      ]
    },
    {
      "cell_type": "code",
      "execution_count": null,
      "id": "d786909d-d7d4-45ec-80ca-6feab7a6efd2",
      "metadata": {
        "colab": {
          "base_uri": "https://localhost:8080/"
        },
        "id": "d786909d-d7d4-45ec-80ca-6feab7a6efd2",
        "outputId": "a7a7e5aa-e703-4278-a6f9-7e5c88b03ffd"
      },
      "outputs": [
        {
          "output_type": "stream",
          "name": "stdout",
          "text": [
            "Estonia is not a nordic country\n",
            "Iceland is a nordic country\n"
          ]
        }
      ],
      "source": [
        "# 12. Check if an item exists in tuple:\n",
        "# Check if 'Estonia' is a nordic country\n",
        "# Check if 'Iceland' is a nordic country\n",
        "# nordic_countries = ('Denmark', 'Finland','Iceland', 'Norway', 'Sweden')\n",
        "\n",
        "nordic_countries = ('Denmark', 'Finland','Iceland', 'Norway', 'Sweden') #countries list as  tuple\n",
        "if 'Estonia' in nordic_countries : # check whether Estonia is present in the given tuple\n",
        "  print(\"Estonia is a nordic country\" )\n",
        "else :\n",
        "  print(\"Estonia is not a nordic country\")\n",
        "if 'Iceland' in nordic_countries :# check whether Iceland is present in the given tuple\n",
        "  print(\"Iceland is a nordic country\")\n",
        "else:\n",
        "  print(\"Iceland is not a nordic country\")"
      ]
    }
  ],
  "metadata": {
    "kernelspec": {
      "display_name": "Python 3 (ipykernel)",
      "language": "python",
      "name": "python3"
    },
    "language_info": {
      "codemirror_mode": {
        "name": "ipython",
        "version": 3
      },
      "file_extension": ".py",
      "mimetype": "text/x-python",
      "name": "python",
      "nbconvert_exporter": "python",
      "pygments_lexer": "ipython3",
      "version": "3.12.7"
    },
    "colab": {
      "provenance": []
    }
  },
  "nbformat": 4,
  "nbformat_minor": 5
}