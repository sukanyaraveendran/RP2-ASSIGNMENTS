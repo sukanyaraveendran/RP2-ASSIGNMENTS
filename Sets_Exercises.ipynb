{
  "cells": [
    {
      "cell_type": "markdown",
      "id": "c354fdc5-828f-4a72-84a4-38c03a49d641",
      "metadata": {
        "id": "c354fdc5-828f-4a72-84a4-38c03a49d641"
      },
      "source": [
        "### Sets - Exercises"
      ]
    },
    {
      "cell_type": "code",
      "execution_count": null,
      "id": "0a7b0030-0947-4a39-ad5b-6ede9763ce8e",
      "metadata": {
        "id": "0a7b0030-0947-4a39-ad5b-6ede9763ce8e"
      },
      "outputs": [],
      "source": [
        "it_companies = {'Facebook', 'Google', 'Microsoft', 'Apple', 'IBM', 'Oracle', 'Amazon'}\n",
        "A = {19, 22, 24, 20, 25, 26}\n",
        "B = {19, 22, 20, 25, 26, 24, 28, 27}\n",
        "age = [22, 19, 24, 25, 26, 24, 25, 24]"
      ]
    },
    {
      "cell_type": "code",
      "execution_count": null,
      "id": "9906cb71-e6aa-4900-aa6d-060fc0ee0d3b",
      "metadata": {
        "colab": {
          "base_uri": "https://localhost:8080/"
        },
        "id": "9906cb71-e6aa-4900-aa6d-060fc0ee0d3b",
        "outputId": "8916403b-53ba-44f7-9c8b-3a010fc4ad05"
      },
      "outputs": [
        {
          "output_type": "stream",
          "name": "stdout",
          "text": [
            "No of IT companies :  7\n"
          ]
        }
      ],
      "source": [
        "# 1. Find the length of the set it_companies\n",
        "length_itcompanies = len(it_companies) #finding length of the set\n",
        "print(\"No of IT companies : \",length_itcompanies)"
      ]
    },
    {
      "cell_type": "code",
      "execution_count": null,
      "id": "ca13f143-4eae-4a53-87ad-ba060516ac3c",
      "metadata": {
        "colab": {
          "base_uri": "https://localhost:8080/"
        },
        "id": "ca13f143-4eae-4a53-87ad-ba060516ac3c",
        "outputId": "78097c7b-d61d-4233-81f4-e593373956fd"
      },
      "outputs": [
        {
          "output_type": "execute_result",
          "data": {
            "text/plain": [
              "{'Amazon',\n",
              " 'Apple',\n",
              " 'Facebook',\n",
              " 'Google',\n",
              " 'IBM',\n",
              " 'Microsoft',\n",
              " 'Oracle',\n",
              " 'Twitter'}"
            ]
          },
          "metadata": {},
          "execution_count": 3
        }
      ],
      "source": [
        "# 2.Add 'Twitter' to it_companies\n",
        "it_companies.add(\"Twitter\") #adding one more item to the set\n",
        "it_companies"
      ]
    },
    {
      "cell_type": "code",
      "execution_count": null,
      "id": "4d9edee2-9b1e-45a0-b333-0044aa4beca0",
      "metadata": {
        "colab": {
          "base_uri": "https://localhost:8080/"
        },
        "id": "4d9edee2-9b1e-45a0-b333-0044aa4beca0",
        "outputId": "03c12536-9309-4ba5-a593-17fcda34a17d"
      },
      "outputs": [
        {
          "output_type": "stream",
          "name": "stdout",
          "text": [
            "{'Oracle', 'Facebook', 'TCS', 'Google', 'Accenture', 'Infosys', 'IBM', 'Amazon', 'Apple', 'Microsoft', 'Twitter'}\n"
          ]
        }
      ],
      "source": [
        "# 3. Insert multiple IT companies at once to the set it_companies\n",
        "it_companies.update(['Accenture','Infosys','TCS']) #adding two or more items to the set\n",
        "print(it_companies)"
      ]
    },
    {
      "cell_type": "code",
      "execution_count": null,
      "id": "f23cf746-eb1e-4979-aced-0eda9f29ada8",
      "metadata": {
        "colab": {
          "base_uri": "https://localhost:8080/"
        },
        "id": "f23cf746-eb1e-4979-aced-0eda9f29ada8",
        "outputId": "f94f50a6-aac1-4486-8a59-dfc23925ef2a"
      },
      "outputs": [
        {
          "output_type": "stream",
          "name": "stdout",
          "text": [
            "{'TCS', 'Google', 'Accenture', 'Infosys', 'IBM', 'Amazon', 'Apple', 'Microsoft', 'Twitter'}\n",
            "Removed company:  Facebook\n"
          ]
        }
      ],
      "source": [
        "# 4. Remove one of the companies from the set it_companies\n",
        "poped_item = it_companies.pop() #removed a random item from the set\n",
        "print(it_companies)\n",
        "print(\"Removed company: \",poped_item)"
      ]
    },
    {
      "cell_type": "code",
      "execution_count": null,
      "id": "0b0f20c8-3710-4cb5-83f0-a25a583dd639",
      "metadata": {
        "colab": {
          "base_uri": "https://localhost:8080/",
          "height": 176
        },
        "id": "0b0f20c8-3710-4cb5-83f0-a25a583dd639",
        "outputId": "53bf657f-fa7b-4b13-ca16-f7c1cd43360a"
      },
      "outputs": [
        {
          "output_type": "error",
          "ename": "KeyError",
          "evalue": "'Oracle'",
          "traceback": [
            "\u001b[0;31m---------------------------------------------------------------------------\u001b[0m",
            "\u001b[0;31mKeyError\u001b[0m                                  Traceback (most recent call last)",
            "\u001b[0;32m/tmp/ipython-input-2980861609.py\u001b[0m in \u001b[0;36m<cell line: 0>\u001b[0;34m()\u001b[0m\n\u001b[1;32m      1\u001b[0m \u001b[0;31m# 5. What is the difference between remove and discard\u001b[0m\u001b[0;34m\u001b[0m\u001b[0;34m\u001b[0m\u001b[0m\n\u001b[0;32m----> 2\u001b[0;31m \u001b[0mit_companies\u001b[0m\u001b[0;34m.\u001b[0m\u001b[0mremove\u001b[0m\u001b[0;34m(\u001b[0m\u001b[0;34m'Oracle'\u001b[0m\u001b[0;34m)\u001b[0m\u001b[0;34m\u001b[0m\u001b[0;34m\u001b[0m\u001b[0m\n\u001b[0m\u001b[1;32m      3\u001b[0m \u001b[0mit_companies\u001b[0m\u001b[0;34m.\u001b[0m\u001b[0mdiscard\u001b[0m\u001b[0;34m(\u001b[0m\u001b[0;34m'Oracle'\u001b[0m\u001b[0;34m)\u001b[0m\u001b[0;34m\u001b[0m\u001b[0;34m\u001b[0m\u001b[0m\n",
            "\u001b[0;31mKeyError\u001b[0m: 'Oracle'"
          ]
        }
      ],
      "source": [
        "# 5. What is the difference between remove and discard\n",
        "it_companies.remove('Oracle') #raises an error if item is not present in the set\n",
        "it_companies.discard('Oracle') #not raise error. can not identify whether the item is present or not\n"
      ]
    },
    {
      "cell_type": "code",
      "execution_count": null,
      "id": "6f236ee3-0fed-481d-8653-7cb0a5383ef2",
      "metadata": {
        "colab": {
          "base_uri": "https://localhost:8080/"
        },
        "id": "6f236ee3-0fed-481d-8653-7cb0a5383ef2",
        "outputId": "ae47098b-fbfd-4d4d-a0a1-53c9401a9d86"
      },
      "outputs": [
        {
          "output_type": "stream",
          "name": "stdout",
          "text": [
            "Set A:  {19, 20, 22, 24, 25, 26}\n",
            "Set B:  {19, 20, 22, 24, 25, 26, 27, 28}\n",
            "Joined Set:  {19, 20, 22, 24, 25, 26, 27, 28}\n"
          ]
        }
      ],
      "source": [
        "# 6. Join A and B\n",
        "A_B = A | B # expression to find A union B\n",
        "print(\"Set A: \",A)\n",
        "print(\"Set B: \",B)\n",
        "print(\"Joined Set: \",A_B)"
      ]
    },
    {
      "cell_type": "code",
      "execution_count": null,
      "id": "ddd10b0d-0a61-438e-a251-c2461584be36",
      "metadata": {
        "colab": {
          "base_uri": "https://localhost:8080/"
        },
        "id": "ddd10b0d-0a61-438e-a251-c2461584be36",
        "outputId": "7b388cb1-f662-4d14-92a0-530235957d56"
      },
      "outputs": [
        {
          "output_type": "stream",
          "name": "stdout",
          "text": [
            "A intersection B:  {19, 20, 22, 24, 25, 26}\n"
          ]
        }
      ],
      "source": [
        "# 7. Find A intersection B\n",
        "print(\"A intersection B: \", A & B) #expression to find A intersection B"
      ]
    },
    {
      "cell_type": "code",
      "execution_count": null,
      "id": "5bf01c41-c3fa-4603-a30f-060d972fca88",
      "metadata": {
        "colab": {
          "base_uri": "https://localhost:8080/"
        },
        "id": "5bf01c41-c3fa-4603-a30f-060d972fca88",
        "outputId": "c4e25fe4-1a7f-48ed-9beb-a6c63f0ed875"
      },
      "outputs": [
        {
          "output_type": "stream",
          "name": "stdout",
          "text": [
            "A is subset of B\n"
          ]
        }
      ],
      "source": [
        "# 8. Is A subset of B\n",
        "if A.issubset(B) : #checking whether A is the subset of B. If So returns true\n",
        "  print(\"A is subset of B\")\n",
        "else :\n",
        "  print(\"A is not subset of B\")"
      ]
    },
    {
      "cell_type": "code",
      "execution_count": null,
      "id": "ef1dae52-491d-413d-a73c-c750dd394a4a",
      "metadata": {
        "colab": {
          "base_uri": "https://localhost:8080/"
        },
        "id": "ef1dae52-491d-413d-a73c-c750dd394a4a",
        "outputId": "b9d98d2d-8cc7-4672-d94f-b2c7990d1956"
      },
      "outputs": [
        {
          "output_type": "stream",
          "name": "stdout",
          "text": [
            "A & B are not disjoint sets\n"
          ]
        }
      ],
      "source": [
        "# 9. Are A and B disjoint sets\n",
        "if A.isdisjoint(B) : #checking whether A and B are disjoint sets. If yes, return true\n",
        "  print(\"A & B are disjoint sets\")\n",
        "else :\n",
        "  print(\"A & B are not disjoint sets\")"
      ]
    },
    {
      "cell_type": "code",
      "execution_count": null,
      "id": "2906a6f5-2583-49fe-8c60-f2528eda9c44",
      "metadata": {
        "colab": {
          "base_uri": "https://localhost:8080/"
        },
        "id": "2906a6f5-2583-49fe-8c60-f2528eda9c44",
        "outputId": "f92098ac-6c7f-4410-c1c1-30f14e2f97e8"
      },
      "outputs": [
        {
          "output_type": "stream",
          "name": "stdout",
          "text": [
            "A union B:  {19, 20, 22, 24, 25, 26, 27, 28}\n",
            "B union A:  {19, 20, 22, 24, 25, 26, 27, 28}\n"
          ]
        }
      ],
      "source": [
        "# 10. Join A with B and B with A\n",
        "print(\"A union B: \", A|B) # A union B\n",
        "print(\"B union A: \", B|A) # B union A"
      ]
    },
    {
      "cell_type": "code",
      "execution_count": null,
      "id": "40183476-3374-47d7-857c-070301e00f1c",
      "metadata": {
        "colab": {
          "base_uri": "https://localhost:8080/"
        },
        "id": "40183476-3374-47d7-857c-070301e00f1c",
        "outputId": "d4880a0e-4753-4bea-86fd-4d96b9c0de42"
      },
      "outputs": [
        {
          "output_type": "stream",
          "name": "stdout",
          "text": [
            "Symmetric difference between A and B :  {27, 28}\n"
          ]
        }
      ],
      "source": [
        "# 11. What is the symmetric difference between A and B\n",
        "print(\"Symmetric difference between A and B : \", A^B) # finding symmetric difference between A and B"
      ]
    },
    {
      "cell_type": "code",
      "execution_count": null,
      "id": "13310309-8065-4369-bb0b-9ed7f1f59024",
      "metadata": {
        "colab": {
          "base_uri": "https://localhost:8080/",
          "height": 193
        },
        "id": "13310309-8065-4369-bb0b-9ed7f1f59024",
        "outputId": "9769f335-cd28-4fc4-dbf9-3dfa7c8df0eb"
      },
      "outputs": [
        {
          "output_type": "error",
          "ename": "NameError",
          "evalue": "name 'A' is not defined",
          "traceback": [
            "\u001b[0;31m---------------------------------------------------------------------------\u001b[0m",
            "\u001b[0;31mNameError\u001b[0m                                 Traceback (most recent call last)",
            "\u001b[0;32m/tmp/ipython-input-315593275.py\u001b[0m in \u001b[0;36m<cell line: 0>\u001b[0;34m()\u001b[0m\n\u001b[1;32m      1\u001b[0m \u001b[0;31m# 12. Delete the sets completely\u001b[0m\u001b[0;34m\u001b[0m\u001b[0;34m\u001b[0m\u001b[0m\n\u001b[1;32m      2\u001b[0m \u001b[0;32mdel\u001b[0m \u001b[0mB\u001b[0m\u001b[0;34m\u001b[0m\u001b[0;34m\u001b[0m\u001b[0m\n\u001b[0;32m----> 3\u001b[0;31m \u001b[0;32mdel\u001b[0m \u001b[0mA\u001b[0m\u001b[0;34m\u001b[0m\u001b[0;34m\u001b[0m\u001b[0m\n\u001b[0m\u001b[1;32m      4\u001b[0m \u001b[0mprint\u001b[0m\u001b[0;34m(\u001b[0m\u001b[0mA\u001b[0m\u001b[0;34m,\u001b[0m\u001b[0mB\u001b[0m\u001b[0;34m)\u001b[0m\u001b[0;34m\u001b[0m\u001b[0;34m\u001b[0m\u001b[0m\n",
            "\u001b[0;31mNameError\u001b[0m: name 'A' is not defined"
          ]
        }
      ],
      "source": [
        " # 12. Delete the sets completely\n",
        "del B #deleted set B completely\n",
        "del A #deletd set A completely\n",
        "print(A,B)"
      ]
    },
    {
      "cell_type": "code",
      "execution_count": null,
      "id": "dd5f2b3a-df25-4b26-952d-84439f397d95",
      "metadata": {
        "colab": {
          "base_uri": "https://localhost:8080/"
        },
        "id": "dd5f2b3a-df25-4b26-952d-84439f397d95",
        "outputId": "ffd610a5-f192-44e1-8a71-882d284a8500"
      },
      "outputs": [
        {
          "output_type": "stream",
          "name": "stdout",
          "text": [
            "Age list:  [22, 19, 24, 25, 26, 24, 25, 24]\n",
            "Age set:  {19, 22, 24, 25, 26}\n",
            "Length of list:  8\n",
            "Length of set:  5\n",
            "Age list is bigger\n"
          ]
        }
      ],
      "source": [
        "# 13. Convert the ages to a set and compare the length of the list and the set, which one is bigger?\n",
        "\n",
        "age_set = set(age) #converted the list of ages to set\n",
        "print(\"Age list: \",age)\n",
        "print(\"Age set: \",age_set)\n",
        "length_list = len(age) #finding length of list\n",
        "length_set = len(age_set) #finding length of set\n",
        "print(\"Length of list: \",length_list)\n",
        "print(\"Length of set: \",length_set)\n",
        "if length_list > length_set : #comparing both length using if condition\n",
        "  print(\"Age list is bigger\")\n",
        "else :\n",
        "  print(\"Age set is bigger\")"
      ]
    },
    {
      "cell_type": "code",
      "execution_count": null,
      "id": "62d4bc84-ca64-4ed2-8175-a8cd653eb7cd",
      "metadata": {
        "colab": {
          "base_uri": "https://localhost:8080/"
        },
        "id": "62d4bc84-ca64-4ed2-8175-a8cd653eb7cd",
        "outputId": "2dee4b41-ad05-49c4-a293-36953d8f359a"
      },
      "outputs": [
        {
          "output_type": "stream",
          "name": "stdout",
          "text": [
            "String as list\n",
            " ['I', 'am', 'a', 'teacher', 'and', 'I', 'love', 'to', 'inspire', 'and', 'teach', 'people.']\n",
            "String as set\n",
            " {'I', 'teach', 'inspire', 'love', 'to', 'people.', 'teacher', 'and', 'am', 'a'}\n",
            "No.of unique words:  10\n"
          ]
        }
      ],
      "source": [
        "# 14. \"I am a teacher and I love to inspire and teach people.\"\n",
        "# How many unique words have been used in the sentence? Use the split methods and set to get the unique words.\n",
        "\n",
        "sentence = \"I am a teacher and I love to inspire and teach people.\" #initialising the sentence as a string\n",
        "string_list = sentence.split() #splitted each words and stored as list(includes duplicates)\n",
        "print(\"String as list\\n\",string_list)\n",
        "string_set = set(string_list) #converted the list to set to store unique words\n",
        "print(\"String as set\\n\",string_set)\n",
        "print(\"No.of unique words: \",len(string_set)) #finding length of set , which is the number of unique words"
      ]
    },
    {
      "cell_type": "code",
      "execution_count": null,
      "id": "8492f961-62c3-4a75-9f7f-37afa6ba0b36",
      "metadata": {
        "id": "8492f961-62c3-4a75-9f7f-37afa6ba0b36"
      },
      "outputs": [],
      "source": [
        "# 15. Explain the difference between the following data types: string, list, tuple and set\n",
        "#String : Immutable and ordered datastructure which allows duplicates\n",
        "# List : Mutable and ordered daatstructure which allows duplicates\n",
        "# Tuple :Immutable and ordered datastructure which allows duplicates\n",
        "#Set : Mutable and unordered datastructure which do not allow duplicates"
      ]
    }
  ],
  "metadata": {
    "kernelspec": {
      "display_name": "Python 3 (ipykernel)",
      "language": "python",
      "name": "python3"
    },
    "language_info": {
      "codemirror_mode": {
        "name": "ipython",
        "version": 3
      },
      "file_extension": ".py",
      "mimetype": "text/x-python",
      "name": "python",
      "nbconvert_exporter": "python",
      "pygments_lexer": "ipython3",
      "version": "3.12.7"
    },
    "colab": {
      "provenance": []
    }
  },
  "nbformat": 4,
  "nbformat_minor": 5
}